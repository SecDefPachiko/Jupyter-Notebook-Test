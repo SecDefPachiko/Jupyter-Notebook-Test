{
 "cells": [
  {
   "cell_type": "markdown",
   "id": "a51d6726-cbd6-4872-b0a1-db4a889e4edd",
   "metadata": {
    "tags": []
   },
   "source": [
    "# Data Science Tools and Ecosystem"
   ]
  },
  {
   "cell_type": "markdown",
   "id": "7b717fc9-7f54-4e66-8d37-a9f11422822e",
   "metadata": {},
   "source": [
    "In this notebook, Data Science Tools and Ecosystem are summarized."
   ]
  },
  {
   "cell_type": "markdown",
   "id": "b4f7f2fa-6c1e-4d11-b1cf-d32522a4e98e",
   "metadata": {},
   "source": [
    "**Objectives:**\n",
    "- List popular languages for Data Science\n",
    "- List examples of open-source tools used in data science\n",
    "- Define SQL elements and list its benefits\n",
    "- Review languages such as Java, Scala, C++, JavaScript, and Julia\n",
    "- Define REST API in relation to request and response"
   ]
  },
  {
   "cell_type": "markdown",
   "id": "d112f90d-e64b-486a-b90b-9ac67aa58ee5",
   "metadata": {},
   "source": [
    "## Author\n",
    "Patrick Delgado"
   ]
  },
  {
   "cell_type": "markdown",
   "id": "4f90ab8c-10e5-4020-9fa3-39d000eed9d8",
   "metadata": {},
   "source": [
    "Some of the popular languages that Data Scientists use are:\n",
    "1. SQL\n",
    "2. Scala\n",
    "3. R"
   ]
  },
  {
   "cell_type": "markdown",
   "id": "815a8223-a64a-4c92-8a1d-17c332defc4f",
   "metadata": {},
   "source": [
    "Some of the commonly used libraries used by Data Scientists include:\n",
    "1. TensorFlow\n",
    "2. NumPy\n",
    "3. Pandas"
   ]
  },
  {
   "cell_type": "markdown",
   "id": "2e53a636-3edc-42e3-ad10-7d8ded55313c",
   "metadata": {},
   "source": [
    "| Data Science Tools |\n",
    "|--------------------|\n",
    "|R Studio            |\n",
    "|Jupyter             |\n",
    "|Apache Zeppelin     |"
   ]
  },
  {
   "cell_type": "markdown",
   "id": "2562248c-cf10-4e27-89f4-8406dc1b42f7",
   "metadata": {},
   "source": [
    "### Below are a few examples of evaluating arithmetic expressions in Python"
   ]
  },
  {
   "cell_type": "code",
   "execution_count": 1,
   "id": "5ff8d837-c24f-4d25-a060-1e24b799841d",
   "metadata": {
    "tags": []
   },
   "outputs": [
    {
     "data": {
      "text/plain": [
       "17"
      ]
     },
     "execution_count": 1,
     "metadata": {},
     "output_type": "execute_result"
    }
   ],
   "source": [
    "#This a simple arithmetic expression to mutiply then add integers\n",
    "(3*4)+5"
   ]
  },
  {
   "cell_type": "code",
   "execution_count": 3,
   "id": "b71c42f1-60bb-4425-8153-e93230ba7ee3",
   "metadata": {
    "tags": []
   },
   "outputs": [
    {
     "data": {
      "text/plain": [
       "3.3333333333333335"
      ]
     },
     "execution_count": 3,
     "metadata": {},
     "output_type": "execute_result"
    }
   ],
   "source": [
    "#This will convert 200 minutes to hours by diving by 60\n",
    "200 / 60"
   ]
  },
  {
   "cell_type": "markdown",
   "id": "8d0dcb91-8644-4f3b-8e55-7dadf5d6436d",
   "metadata": {},
   "source": []
  }
 ],
 "metadata": {
  "kernelspec": {
   "display_name": "Python",
   "language": "python",
   "name": "conda-env-python-py"
  },
  "language_info": {
   "codemirror_mode": {
    "name": "ipython",
    "version": 3
   },
   "file_extension": ".py",
   "mimetype": "text/x-python",
   "name": "python",
   "nbconvert_exporter": "python",
   "pygments_lexer": "ipython3",
   "version": "3.7.12"
  }
 },
 "nbformat": 4,
 "nbformat_minor": 5
}
